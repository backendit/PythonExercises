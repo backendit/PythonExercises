{
 "cells": [
  {
   "cell_type": "markdown",
   "id": "88b820d3-e296-4db0-b144-fc349d5de4fe",
   "metadata": {},
   "source": [
    "一、Python基础知识"
   ]
  },
  {
   "cell_type": "code",
   "execution_count": 1,
   "id": "57b6e956-96ba-4483-b53a-d19a1b0bc665",
   "metadata": {},
   "outputs": [
    {
     "name": "stdout",
     "output_type": "stream",
     "text": [
      "hellow python.\n"
     ]
    }
   ],
   "source": [
    "print('hellow python.')"
   ]
  },
  {
   "cell_type": "code",
   "execution_count": null,
   "id": "a6911172-8bd0-4133-92f3-62f851d8a18d",
   "metadata": {},
   "outputs": [],
   "source": []
  }
 ],
 "metadata": {
  "kernelspec": {
   "display_name": "Python 3 (ipykernel)",
   "language": "python",
   "name": "python3"
  },
  "language_info": {
   "codemirror_mode": {
    "name": "ipython",
    "version": 3
   },
   "file_extension": ".py",
   "mimetype": "text/x-python",
   "name": "python",
   "nbconvert_exporter": "python",
   "pygments_lexer": "ipython3",
   "version": "3.8.12"
  }
 },
 "nbformat": 4,
 "nbformat_minor": 5
}
